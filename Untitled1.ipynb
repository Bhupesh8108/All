{
 "cells": [
  {
   "cell_type": "code",
   "execution_count": 9,
   "id": "7c3990c9-9a6b-4449-bb19-d821c164e35d",
   "metadata": {},
   "outputs": [],
   "source": [
    "import pandas as pd \n",
    "data = pd.read_csv('/home/kali/Downloads/4. covid_19_data.csv')\n",
    "from sqlalchemy import create_engine\n",
    "engine = create_engine('sqlite://', echo=False)\n",
    "\n",
    "data.to_sql('covid',engine)\n"
   ]
  },
  {
   "cell_type": "code",
   "execution_count": null,
   "id": "c827c138-4da0-40ef-aa9c-94491e0652af",
   "metadata": {},
   "outputs": [],
   "source": [
    "db = pd.read_('/home/kali/Downloads/sql.')"
   ]
  }
 ],
 "metadata": {
  "kernelspec": {
   "display_name": "Python 3 (ipykernel)",
   "language": "python",
   "name": "python3"
  },
  "language_info": {
   "codemirror_mode": {
    "name": "ipython",
    "version": 3
   },
   "file_extension": ".py",
   "mimetype": "text/x-python",
   "name": "python",
   "nbconvert_exporter": "python",
   "pygments_lexer": "ipython3",
   "version": "3.10.8"
  }
 },
 "nbformat": 4,
 "nbformat_minor": 5
}
