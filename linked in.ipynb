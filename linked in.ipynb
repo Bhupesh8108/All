{
 "cells": [
  {
   "cell_type": "code",
   "execution_count": 8,
   "id": "591af67c",
   "metadata": {},
   "outputs": [
    {
     "name": "stdout",
     "output_type": "stream",
     "text": [
      "Defaulting to user installation because normal site-packages is not writeable\n",
      "Collecting python-linkedin\n",
      "  Downloading python-linkedin-4.1.tar.gz (8.4 kB)\n",
      "  Preparing metadata (setup.py) ... \u001b[?25ldone\n",
      "\u001b[?25hRequirement already satisfied: requests-oauthlib>=0.3 in /home/kali/.local/lib/python3.10/site-packages (from python-linkedin) (1.3.1)\n",
      "Requirement already satisfied: requests>=1.1.0 in /usr/lib/python3/dist-packages (from python-linkedin) (2.27.1)\n",
      "Requirement already satisfied: oauthlib>=3.0.0 in /home/kali/.local/lib/python3.10/site-packages (from requests-oauthlib>=0.3->python-linkedin) (3.2.0)\n",
      "Building wheels for collected packages: python-linkedin\n",
      "  Building wheel for python-linkedin (setup.py) ... \u001b[?25ldone\n",
      "\u001b[?25h  Created wheel for python-linkedin: filename=python_linkedin-4.1-py3-none-any.whl size=9692 sha256=e1fc44d155c71649a57d4bbd8528ff1cbcaf36bff55d4cb67f036cda78ac0d46\n",
      "  Stored in directory: /home/kali/.cache/pip/wheels/9d/c6/7a/57767f281176e9c65fa95d599a14f9028018dc6380dbe6c824\n",
      "Successfully built python-linkedin\n",
      "Installing collected packages: python-linkedin\n",
      "Successfully installed python-linkedin-4.1\n"
     ]
    }
   ],
   "source": [
    "!pip install python-linkedin\n"
   ]
  },
  {
   "cell_type": "code",
   "execution_count": 10,
   "id": "929a03a5",
   "metadata": {},
   "outputs": [
    {
     "ename": "SyntaxError",
     "evalue": "multiple exception types must be parenthesized (linkedin.py, line 294)",
     "output_type": "error",
     "traceback": [
      "Traceback \u001b[0;36m(most recent call last)\u001b[0m:\n",
      "  File \u001b[1;32m\"/usr/lib/python3/dist-packages/IPython/core/interactiveshell.py\"\u001b[0m, line \u001b[1;32m3457\u001b[0m, in \u001b[1;35mrun_code\u001b[0m\n    exec(code_obj, self.user_global_ns, self.user_ns)\n",
      "\u001b[0;36m  File \u001b[0;32m\"/tmp/ipykernel_3263/2428888796.py\"\u001b[0;36m, line \u001b[0;32m1\u001b[0;36m, in \u001b[0;35m<module>\u001b[0;36m\u001b[0m\n\u001b[0;31m    from linkedin import linkedin\u001b[0m\n",
      "\u001b[0;36m  File \u001b[0;32m\"/home/kali/.local/lib/python3.10/site-packages/linkedin/linkedin.py\"\u001b[0;36m, line \u001b[0;32m294\u001b[0m\n\u001b[0;31m    except (requests.ConnectionError, requests.HTTPError), error:\u001b[0m\n\u001b[0m           ^\u001b[0m\n\u001b[0;31mSyntaxError\u001b[0m\u001b[0;31m:\u001b[0m multiple exception types must be parenthesized\n"
     ]
    }
   ],
   "source": [
    "from linkedin import linkedin\n",
    "\n",
    "# Define CONSUMER_KEY, CONSUMER_SECRET,  \n",
    "# USER_TOKEN, and USER_SECRET from the credentials \n",
    "# provided in your LinkedIn application\n",
    "\n",
    "# Instantiate the developer authentication class\n",
    "CONSUMER_KEY = '77v6nmmymuo2au'\n",
    "CONSUMER_SECRET= 'lKR3iO7Png9arTEZ'\n",
    "USER_TOKEN = 'AQXLVX3oFWnL0UpVOoRCD0TJGiUifFZGOaMAIPrPKj0vO-w95ooPcfPve4hHmGxblISpHOU0fgVKAkhejfvwtcFqZH3OPTxyvdRUuB4K5eFxBllieoPkhJFM_KnKebjfcGhzQuWExO-1Q7dQKoWBkdKO2IiZSxuGX_VJJInMUEjcTW3U34_csEVEhysbU_EUTxWPkgkM2OTLh6Aoy5Y5o_aWajNHWbi-d1Q2bcTSfXGg4ZOPS-dMLhE4V84X_6h58DyEzi99U94S7lUpxDykcJP0ve13I1IvbRVNH1aF3T9PBf7J0M_rkcWjxf5dqTEfFleV01Mnh5RXhhEVJgLmydS0lGkYAQ'\n",
    "authentication = linkedin.LinkedInDeveloperAuthentication(CONSUMER_KEY, CONSUMER_SECRET, \n",
    "                                                          USER_TOKEN, USER_SECRET, \n",
    "                                                          RETURN_URL, linkedin.PERMISSIONS.enums.values())\n",
    "\n",
    "# Pass it in to the app...\n",
    "\n",
    "application = linkedin.LinkedInApplication(authentication)\n",
    "\n",
    "# Use the app....\n",
    "\n",
    "application.get_profile()"
   ]
  },
  {
   "cell_type": "code",
   "execution_count": null,
   "id": "f220dd08",
   "metadata": {},
   "outputs": [],
   "source": []
  },
  {
   "cell_type": "code",
   "execution_count": 6,
   "id": "fb01eb39",
   "metadata": {},
   "outputs": [
    {
     "ename": "NameError",
     "evalue": "name '__file__' is not defined",
     "output_type": "error",
     "traceback": [
      "\u001b[0;31m---------------------------------------------------------------------------\u001b[0m",
      "\u001b[0;31mNameError\u001b[0m                                 Traceback (most recent call last)",
      "\u001b[0;32m/tmp/ipykernel_3263/1697223978.py\u001b[0m in \u001b[0;36m<module>\u001b[0;34m\u001b[0m\n\u001b[1;32m      6\u001b[0m \u001b[0;34m\u001b[0m\u001b[0m\n\u001b[1;32m      7\u001b[0m \u001b[0;31m# Create .env file path\u001b[0m\u001b[0;34m\u001b[0m\u001b[0;34m\u001b[0m\u001b[0m\n\u001b[0;32m----> 8\u001b[0;31m \u001b[0mdotenv_path\u001b[0m \u001b[0;34m=\u001b[0m \u001b[0mjoin\u001b[0m\u001b[0;34m(\u001b[0m\u001b[0mdirname\u001b[0m\u001b[0;34m(\u001b[0m\u001b[0m__file__\u001b[0m\u001b[0;34m)\u001b[0m\u001b[0;34m,\u001b[0m \u001b[0;34m'.env'\u001b[0m\u001b[0;34m)\u001b[0m\u001b[0;34m\u001b[0m\u001b[0;34m\u001b[0m\u001b[0m\n\u001b[0m\u001b[1;32m      9\u001b[0m \u001b[0;34m\u001b[0m\u001b[0m\n\u001b[1;32m     10\u001b[0m \u001b[0;31m# load file from the path\u001b[0m\u001b[0;34m\u001b[0m\u001b[0;34m\u001b[0m\u001b[0m\n",
      "\u001b[0;31mNameError\u001b[0m: name '__file__' is not defined"
     ]
    }
   ],
   "source": [
    "import requests\n",
    "import os\n",
    "\n",
    "from os.path import join, dirname\n",
    "from dotenv import load_dotenv\n",
    "\n",
    "# Create .env file path\n",
    "dotenv_path = join(dirname(__file__), '.env')\n",
    "\n",
    "# load file from the path\n",
    "load_dotenv(dotenv_path)\n",
    "\n",
    "# accessing environment variable\n",
    "access_token = os.getenv('ACCESS_TOKEN')"
   ]
  },
  {
   "cell_type": "code",
   "execution_count": null,
   "id": "2ffff827",
   "metadata": {},
   "outputs": [],
   "source": [
    "api_url_base = "
   ]
  },
  {
   "cell_type": "code",
   "execution_count": null,
   "id": "a9b9cbb4",
   "metadata": {},
   "outputs": [],
   "source": [
    "ACCESS_TOKEN=\"<your access token here>\"\n",
    "URN=\"<your Person URN here>"
   ]
  },
  {
   "cell_type": "code",
   "execution_count": null,
   "id": "f9f9929b",
   "metadata": {},
   "outputs": [],
   "source": [
    "access_token = os.getenv('ACCESS_TOKEN')\n",
    "urn = os.getenv('URN')\n",
    "author = f\"urn:li:person:{urn}\""
   ]
  },
  {
   "cell_type": "code",
   "execution_count": 5,
   "id": "0fe22d2a",
   "metadata": {},
   "outputs": [
    {
     "ename": "NameError",
     "evalue": "name 'urn' is not defined",
     "output_type": "error",
     "traceback": [
      "\u001b[0;31m---------------------------------------------------------------------------\u001b[0m",
      "\u001b[0;31mNameError\u001b[0m                                 Traceback (most recent call last)",
      "\u001b[0;32m/tmp/ipykernel_3263/3798390431.py\u001b[0m in \u001b[0;36m<module>\u001b[0;34m\u001b[0m\n\u001b[1;32m      1\u001b[0m \u001b[0maccess_token\u001b[0m \u001b[0;34m=\u001b[0m \u001b[0;34m'AQXulMvyHn-zIDfyG4_B0ORNDpvL14aF2s88zRC56lPqiq9aycp-cOsq-UU9xLVvOrEwb5wEPvsKXuQRo2jrt4y9-z1Neog44Qw0nlPySbE0kKt5qbKdEt1x15dt6ErY342oTDIKUWFtx_egAkmVkXDOWwFZbXbdl9IFh02ZqsTw5Ze5KKKcm4s1nlt-NhoVmMtlkFRCRI-vlYhU0PxGZHbDfMwaXVAZ1ZDOsEmpKdcHB-PrgUqgQBZiWYgVuPvdTz4lx71qwp4HfgSb9TRoa7wC3mjtjOCa0-3w7MPdvvHtn5NzAzL3uDyruaJqBUtcgxlIXtwEf4JV9MDU34Itwx4jk0P00Q'\u001b[0m\u001b[0;34m\u001b[0m\u001b[0;34m\u001b[0m\u001b[0m\n\u001b[0;32m----> 2\u001b[0;31m \u001b[0mauthor\u001b[0m \u001b[0;34m=\u001b[0m \u001b[0;34mf\"urn:li:person:{urn}\"\u001b[0m\u001b[0;34m\u001b[0m\u001b[0;34m\u001b[0m\u001b[0m\n\u001b[0m\u001b[1;32m      3\u001b[0m headers = {'X-Restli-Protocol-Version': '2.0.0',\n\u001b[1;32m      4\u001b[0m            \u001b[0;34m'Content-Type'\u001b[0m\u001b[0;34m:\u001b[0m \u001b[0;34m'application/json'\u001b[0m\u001b[0;34m,\u001b[0m\u001b[0;34m\u001b[0m\u001b[0;34m\u001b[0m\u001b[0m\n\u001b[1;32m      5\u001b[0m            'Authorization': f'Bearer {access_token}'}\n",
      "\u001b[0;31mNameError\u001b[0m: name 'urn' is not defined"
     ]
    }
   ],
   "source": [
    "headers = {'X-Restli-Protocol-Version': '2.0.0',\n",
    "           'Content-Type': 'application/json',\n",
    "           'Authorization': f'Bearer {access_token}'}"
   ]
  },
  {
   "cell_type": "code",
   "execution_count": 4,
   "id": "86e19fbd",
   "metadata": {},
   "outputs": [
    {
     "ename": "NameError",
     "evalue": "name 'author' is not defined",
     "output_type": "error",
     "traceback": [
      "\u001b[0;31m---------------------------------------------------------------------------\u001b[0m",
      "\u001b[0;31mNameError\u001b[0m                                 Traceback (most recent call last)",
      "\u001b[0;32m/tmp/ipykernel_3263/1187668062.py\u001b[0m in \u001b[0;36m<module>\u001b[0;34m\u001b[0m\n\u001b[1;32m     25\u001b[0m     \u001b[0;32melse\u001b[0m\u001b[0;34m:\u001b[0m\u001b[0;34m\u001b[0m\u001b[0;34m\u001b[0m\u001b[0m\n\u001b[1;32m     26\u001b[0m         \u001b[0mprint\u001b[0m\u001b[0;34m(\u001b[0m\u001b[0mresponse\u001b[0m\u001b[0;34m.\u001b[0m\u001b[0mcontent\u001b[0m\u001b[0;34m)\u001b[0m\u001b[0;34m\u001b[0m\u001b[0;34m\u001b[0m\u001b[0m\n\u001b[0;32m---> 27\u001b[0;31m \u001b[0mpost_on_linkedin\u001b[0m\u001b[0;34m(\u001b[0m\u001b[0;34m)\u001b[0m\u001b[0;34m\u001b[0m\u001b[0;34m\u001b[0m\u001b[0m\n\u001b[0m",
      "\u001b[0;32m/tmp/ipykernel_3263/1187668062.py\u001b[0m in \u001b[0;36mpost_on_linkedin\u001b[0;34m()\u001b[0m\n\u001b[1;32m      3\u001b[0m \u001b[0;34m\u001b[0m\u001b[0m\n\u001b[1;32m      4\u001b[0m     post_data = {\n\u001b[0;32m----> 5\u001b[0;31m         \u001b[0;34m\"author\"\u001b[0m\u001b[0;34m:\u001b[0m \u001b[0mauthor\u001b[0m\u001b[0;34m,\u001b[0m\u001b[0;34m\u001b[0m\u001b[0;34m\u001b[0m\u001b[0m\n\u001b[0m\u001b[1;32m      6\u001b[0m         \u001b[0;34m\"lifecycleState\"\u001b[0m\u001b[0;34m:\u001b[0m \u001b[0;34m\"PUBLISHED\"\u001b[0m\u001b[0;34m,\u001b[0m\u001b[0;34m\u001b[0m\u001b[0;34m\u001b[0m\u001b[0m\n\u001b[1;32m      7\u001b[0m         \"specificContent\": {\n",
      "\u001b[0;31mNameError\u001b[0m: name 'author' is not defined"
     ]
    }
   ],
   "source": [
    "def post_on_linkedin():\n",
    "    api_url = 'https://api.linkedin.com/v2/ugcPosts'\n",
    "\n",
    "    post_data = {\n",
    "        \"author\": author,\n",
    "        \"lifecycleState\": \"PUBLISHED\",\n",
    "        \"specificContent\": {\n",
    "            \"com.linkedin.ugc.ShareContent\": {\n",
    "                \"shareCommentary\": {\n",
    "                    \"text\": \"This is an automated share by a python script\"\n",
    "                },\n",
    "                \"shareMediaCategory\": \"NONE\"\n",
    "            },\n",
    "        },\n",
    "        \"visibility\": {\n",
    "            \"com.linkedin.ugc.MemberNetworkVisibility\": \"CONNECTIONS\"\n",
    "        },\n",
    "    }\n",
    "\n",
    "    response = requests.post(api_url, headers=headers, json=post_data)\n",
    "\n",
    "    if response.status_code == 201:\n",
    "        print(\"Success\")\n",
    "        print(response.content)\n",
    "    else:\n",
    "        print(response.content)\n",
    "post_on_linkedin()"
   ]
  }
 ],
 "metadata": {
  "kernelspec": {
   "display_name": "Python 3 (ipykernel)",
   "language": "python",
   "name": "python3"
  },
  "language_info": {
   "codemirror_mode": {
    "name": "ipython",
    "version": 3
   },
   "file_extension": ".py",
   "mimetype": "text/x-python",
   "name": "python",
   "nbconvert_exporter": "python",
   "pygments_lexer": "ipython3",
   "version": "3.10.8"
  },
  "varInspector": {
   "cols": {
    "lenName": 16,
    "lenType": 16,
    "lenVar": 40
   },
   "kernels_config": {
    "python": {
     "delete_cmd_postfix": "",
     "delete_cmd_prefix": "del ",
     "library": "var_list.py",
     "varRefreshCmd": "print(var_dic_list())"
    },
    "r": {
     "delete_cmd_postfix": ") ",
     "delete_cmd_prefix": "rm(",
     "library": "var_list.r",
     "varRefreshCmd": "cat(var_dic_list()) "
    }
   },
   "types_to_exclude": [
    "module",
    "function",
    "builtin_function_or_method",
    "instance",
    "_Feature"
   ],
   "window_display": false
  }
 },
 "nbformat": 4,
 "nbformat_minor": 5
}
