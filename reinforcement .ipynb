{
 "cells": [
  {
   "cell_type": "code",
   "execution_count": 4,
   "id": "90cf2fc9-e24f-4b28-9884-c504433c408d",
   "metadata": {},
   "outputs": [
    {
     "name": "stdout",
     "output_type": "stream",
     "text": [
      "[-4.2408746e-01  2.6661309e-04] -1.0 False\n",
      "[-0.42355615  0.00053131] -1.0 False\n",
      "[-0.42276394  0.00079221] -1.0 False\n",
      "[-0.4217165   0.00104743] -1.0 False\n",
      "[-0.42042136  0.00129515] -1.0 False\n",
      "[-0.41888773  0.00153362] -1.0 False\n",
      "[-0.4171266   0.00176114] -1.0 False\n",
      "[-0.4151505   0.00197611] -1.0 False\n",
      "[-0.41297346  0.00217702] -1.0 False\n",
      "[-0.41061097  0.00236248] -1.0 False\n",
      "[-0.40807977  0.0025312 ] -1.0 False\n",
      "[-0.40539774  0.00268205] -1.0 False\n",
      "[-0.40258372  0.002814  ] -1.0 False\n",
      "[-0.39965752  0.0029262 ] -1.0 False\n",
      "[-0.39663962  0.00301791] -1.0 False\n",
      "[-0.39355105  0.00308857] -1.0 False\n",
      "[-0.39041328  0.00313777] -1.0 False\n",
      "[-0.38724804  0.00316524] -1.0 False\n",
      "[-0.38407713  0.00317089] -1.0 False\n",
      "[-0.38092238  0.00315477] -1.0 False\n",
      "[-0.3778053   0.00311707] -1.0 False\n",
      "[-0.37474716  0.00305815] -1.0 False\n",
      "[-0.37176865  0.0029785 ] -1.0 False\n",
      "[-0.3688899   0.00287875] -1.0 False\n",
      "[-0.36613026  0.00275964] -1.0 False\n",
      "[-0.3635082   0.00262207] -1.0 False\n",
      "[-0.3610412   0.00246702] -1.0 False\n",
      "[-0.35874557  0.00229559] -1.0 False\n",
      "[-0.3566366   0.00210898] -1.0 False\n",
      "[-0.35472813  0.00190847] -1.0 False\n",
      "[-0.3530327   0.00169543] -1.0 False\n",
      "[-0.35156143  0.00147128] -1.0 False\n",
      "[-0.35032392  0.00123752] -1.0 False\n",
      "[-0.34932822  0.0009957 ] -1.0 False\n",
      "[-0.3485808   0.00074741] -1.0 False\n",
      "[-0.34808654  0.00049426] -1.0 False\n",
      "[-3.4784865e-01  2.3790305e-04] -1.0 False\n",
      "[-3.4786862e-01 -1.9994606e-05] -1.0 False\n",
      "[-3.4814641e-01 -2.7776268e-04] -1.0 False\n",
      "[-0.34868014 -0.00053373] -1.0 False\n",
      "[-0.34946635 -0.00078623] -1.0 False\n",
      "[-0.3505     -0.00103363] -1.0 False\n",
      "[-0.3517743  -0.00127431] -1.0 False\n",
      "[-0.35328096 -0.00150667] -1.0 False\n",
      "[-0.35501018 -0.0017292 ] -1.0 False\n",
      "[-0.35695055 -0.00194039] -1.0 False\n",
      "[-0.35908937 -0.00213883] -1.0 False\n",
      "[-0.36141255 -0.00232317] -1.0 False\n",
      "[-0.36390468 -0.00249214] -1.0 False\n",
      "[-0.36654925 -0.00264455] -1.0 False\n",
      "[-0.3693286  -0.00277933] -1.0 False\n",
      "[-0.37222406 -0.00289549] -1.0 False\n",
      "[-0.37521625 -0.00299218] -1.0 False\n",
      "[-0.3782849  -0.00306865] -1.0 False\n",
      "[-0.3814092  -0.00312431] -1.0 False\n",
      "[-0.3845679  -0.00315869] -1.0 False\n",
      "[-0.38773933 -0.00317145] -1.0 False\n",
      "[-0.39090174 -0.00316242] -1.0 False\n",
      "[-0.3940333  -0.00313156] -1.0 False\n",
      "[-0.39711234 -0.00307902] -1.0 False\n",
      "[-0.4001174  -0.00300507] -1.0 False\n",
      "[-0.40302753 -0.00291014] -1.0 False\n",
      "[-0.4058224  -0.00279483] -1.0 False\n",
      "[-0.40848228 -0.00265989] -1.0 False\n",
      "[-0.41098848 -0.00250621] -1.0 False\n",
      "[-0.41332328 -0.00233481] -1.0 False\n",
      "[-0.41547015 -0.00214687] -1.0 False\n",
      "[-0.41741386 -0.00194369] -1.0 False\n",
      "[-0.41914052 -0.00172667] -1.0 False\n",
      "[-0.42063788 -0.00149735] -1.0 False\n",
      "[-0.4218952  -0.00125734] -1.0 False\n",
      "[-0.42290354 -0.00100833] -1.0 False\n",
      "[-0.42365566 -0.00075211] -1.0 False\n",
      "[-0.42414618 -0.00049051] -1.0 False\n",
      "[-4.2437154e-01 -2.2538434e-04] -1.0 False\n",
      "[-4.2433020e-01  4.1354033e-05] -1.0 False\n",
      "[-4.240224e-01  3.077959e-04] -1.0 False\n",
      "[-0.42345035  0.00057203] -1.0 False\n",
      "[-0.4226182   0.00083217] -1.0 False\n",
      "[-0.42153186  0.00108634] -1.0 False\n",
      "[-0.4201991   0.00133275] -1.0 False\n",
      "[-0.41862947  0.00156963] -1.0 False\n",
      "[-0.41683418  0.00179531] -1.0 False\n",
      "[-0.41482598  0.00200819] -1.0 False\n",
      "[-0.41261917  0.0022068 ] -1.0 False\n",
      "[-0.41022944  0.00238974] -1.0 False\n",
      "[-0.40767366  0.00255577] -1.0 False\n",
      "[-0.4049699   0.00270375] -1.0 False\n",
      "[-0.40213722  0.0028327 ] -1.0 False\n",
      "[-0.39919546  0.00294176] -1.0 False\n",
      "[-0.3961652   0.00303025] -1.0 False\n",
      "[-0.3930676   0.00309761] -1.0 False\n",
      "[-0.38992414  0.00314345] -1.0 False\n",
      "[-0.3867566   0.00316755] -1.0 False\n",
      "[-0.38358676  0.00316982] -1.0 False\n",
      "[-0.38043645  0.00315034] -1.0 False\n",
      "[-0.3773271   0.00310932] -1.0 False\n",
      "[-0.37427998  0.00304716] -1.0 False\n",
      "[-0.37131563  0.00296435] -1.0 False\n",
      "[-0.36845407  0.00286154] -1.0 False\n"
     ]
    }
   ],
   "source": [
    "import gym\n",
    "env = gym.make('MountainCar-v0')\n",
    "env.reset()\n",
    "done = False\n",
    "for i in range (100) :\n",
    "    action = 2 \n",
    "    new_state, reward ,done ,*_ = env.step(action)\n",
    "    print( new_state, reward ,done )\n",
    "    env.render()\n",
    "env.close()"
   ]
  },
  {
   "cell_type": "code",
   "execution_count": null,
   "id": "92ef5283-1ba5-48a8-9e40-a0e965dd831e",
   "metadata": {},
   "outputs": [],
   "source": []
  },
  {
   "cell_type": "code",
   "execution_count": null,
   "id": "6b14cf21-b515-4c63-a0a0-c27ba9985b9d",
   "metadata": {},
   "outputs": [],
   "source": []
  },
  {
   "cell_type": "code",
   "execution_count": null,
   "id": "3c3449e1-f908-4a9c-a4f4-3eb6cab086a7",
   "metadata": {},
   "outputs": [],
   "source": []
  },
  {
   "cell_type": "code",
   "execution_count": null,
   "id": "e1dbf084-f025-4945-8f34-b678a9cb604c",
   "metadata": {},
   "outputs": [],
   "source": []
  },
  {
   "cell_type": "code",
   "execution_count": null,
   "id": "8c755cc2-26fa-4912-a525-1b7572b9e07a",
   "metadata": {},
   "outputs": [],
   "source": []
  },
  {
   "cell_type": "code",
   "execution_count": null,
   "id": "70163ffa-f02c-4f05-bbc2-dd53a14144fa",
   "metadata": {},
   "outputs": [],
   "source": []
  },
  {
   "cell_type": "code",
   "execution_count": null,
   "id": "ead0d0bc-fce4-4e28-8376-ae7e602d562b",
   "metadata": {},
   "outputs": [],
   "source": []
  },
  {
   "cell_type": "code",
   "execution_count": null,
   "id": "5c71acd8-2265-4cd9-a6de-819a33c45a07",
   "metadata": {},
   "outputs": [],
   "source": []
  },
  {
   "cell_type": "code",
   "execution_count": null,
   "id": "08b64f2c-8c1b-4af0-951c-3b1505b296ba",
   "metadata": {},
   "outputs": [],
   "source": []
  },
  {
   "cell_type": "code",
   "execution_count": null,
   "id": "4804ee4b-650b-4640-8fe3-6dc3c12f4a0e",
   "metadata": {},
   "outputs": [],
   "source": []
  },
  {
   "cell_type": "code",
   "execution_count": null,
   "id": "c2c129cb-2337-46d8-972b-3d296b5fe953",
   "metadata": {},
   "outputs": [],
   "source": []
  },
  {
   "cell_type": "code",
   "execution_count": null,
   "id": "8981a254-40ce-4b6c-91e4-e05b519ebf06",
   "metadata": {},
   "outputs": [],
   "source": []
  },
  {
   "cell_type": "code",
   "execution_count": null,
   "id": "1ad6a68d-624e-4f8a-9639-e9580f0bf95a",
   "metadata": {},
   "outputs": [],
   "source": []
  },
  {
   "cell_type": "code",
   "execution_count": null,
   "id": "120bb69b-d4d1-47e2-a6cd-05f43630c414",
   "metadata": {},
   "outputs": [],
   "source": []
  },
  {
   "cell_type": "code",
   "execution_count": null,
   "id": "b20187aa-77b4-4377-b424-a82b3a7895b5",
   "metadata": {},
   "outputs": [],
   "source": []
  },
  {
   "cell_type": "code",
   "execution_count": null,
   "id": "4cfae936-a192-43c4-a513-d1a5d677a1ea",
   "metadata": {},
   "outputs": [],
   "source": []
  },
  {
   "cell_type": "code",
   "execution_count": null,
   "id": "5bdc3d49-1f2f-486f-a3c5-34ab15302c74",
   "metadata": {},
   "outputs": [],
   "source": []
  },
  {
   "cell_type": "code",
   "execution_count": null,
   "id": "c02c9259-4cf8-400f-a57d-2a2cf347fc49",
   "metadata": {},
   "outputs": [],
   "source": []
  }
 ],
 "metadata": {
  "kernelspec": {
   "display_name": "Python 3 (ipykernel)",
   "language": "python",
   "name": "python3"
  },
  "language_info": {
   "codemirror_mode": {
    "name": "ipython",
    "version": 3
   },
   "file_extension": ".py",
   "mimetype": "text/x-python",
   "name": "python",
   "nbconvert_exporter": "python",
   "pygments_lexer": "ipython3",
   "version": "3.10.7"
  }
 },
 "nbformat": 4,
 "nbformat_minor": 5
}
